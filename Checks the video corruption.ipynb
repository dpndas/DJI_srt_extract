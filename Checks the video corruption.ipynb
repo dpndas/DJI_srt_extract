{
 "cells": [
  {
   "cell_type": "code",
   "execution_count": 3,
   "id": "5e9fa2c8",
   "metadata": {},
   "outputs": [
    {
     "name": "stdout",
     "output_type": "stream",
     "text": [
      "         Video_ID  corrupted file drone id  section\n",
      "0   DJI_01211.mp4               1     P1D1  SE_Lek1\n",
      "1   DJI_01224.mp4               0     P1D1  SE_Lek1\n",
      "2   DJI_01232.mp4               0     P1D1  SE_Lek1\n",
      "3   DJI_01243.mp4               0     P1D1  SE_Lek1\n",
      "4   DJI_01253.mp4               0     P1D1  SE_Lek1\n",
      "5   DJI_02213.mp4               0     P1D2  SE_Lek1\n",
      "6   DJI_02237.mp4               0     P1D2  SE_Lek1\n",
      "7   DJI_02244.mp4               0     P1D2  SE_Lek1\n",
      "8   DJI_02254.mp4               0     P1D2  SE_Lek1\n",
      "9   DJI_02262.mp4               0     P1D2  SE_Lek1\n",
      "10  DJI_03142.mp4               0     P2D3  SE_Lek1\n",
      "11  DJI_03224.mp4               0     P2D3  SE_Lek1\n",
      "12  DJI_03244.mp4               0     P2D3  SE_Lek1\n",
      "13  DJI_03423.mp4               0     P2D3  SE_Lek1\n",
      "14  DJI_03425.mp4               0     P2D3  SE_Lek1\n"
     ]
    }
   ],
   "source": [
    "import os\n",
    "import cv2\n",
    "import pandas as pd\n",
    "\n",
    "def check_playable_videos(root_folder):\n",
    "    video_data = []\n",
    "\n",
    "    for folder_name in os.listdir(root_folder):\n",
    "        folder_path = os.path.join(root_folder, folder_name)\n",
    "\n",
    "        if os.path.isdir(folder_path):\n",
    "            for subfolder_name in os.listdir(folder_path):\n",
    "                subfolder_path = os.path.join(folder_path, subfolder_name)\n",
    "\n",
    "                if os.path.isdir(subfolder_path):\n",
    "                    for video_file in os.listdir(subfolder_path):\n",
    "                        if video_file.lower().endswith(\".mp4\"):  # Only process mp4 files\n",
    "                            video_path = os.path.join(subfolder_path, video_file)\n",
    "\n",
    "                            # Initialize 'corrupted' flag as 0, assuming the video is playable\n",
    "                            corrupted = 0\n",
    "\n",
    "                            # Check if the video is playable using OpenCV\n",
    "                            try:\n",
    "                                cap = cv2.VideoCapture(video_path)\n",
    "                                if not cap.isOpened():\n",
    "                                    corrupted = 1\n",
    "                            except Exception as e:\n",
    "                                print(f\"Error while reading video '{video_file}': {e}\")\n",
    "                                corrupted = 1\n",
    "                            finally:\n",
    "                                cap.release()\n",
    "\n",
    "                            # Append the video data to the list\n",
    "                            video_data.append({\n",
    "                                'Video_ID': video_file,\n",
    "                                'corrupted file': corrupted,\n",
    "                                'drone id': subfolder_name,\n",
    "                                'section': folder_name\n",
    "                            })\n",
    "\n",
    "    # Create a DataFrame from the video data\n",
    "    df = pd.DataFrame(video_data)\n",
    "\n",
    "    return df\n",
    "\n",
    "\n",
    "root_folder = \"D:/MELA/Test Dataset video/\"\n",
    "result_dataframe = check_playable_videos(root_folder)\n",
    "print(result_dataframe)"
   ]
  },
  {
   "cell_type": "code",
   "execution_count": null,
   "id": "16aeb9e2",
   "metadata": {},
   "outputs": [],
   "source": []
  }
 ],
 "metadata": {
  "kernelspec": {
   "display_name": "Python 3 (ipykernel)",
   "language": "python",
   "name": "python3"
  },
  "language_info": {
   "codemirror_mode": {
    "name": "ipython",
    "version": 3
   },
   "file_extension": ".py",
   "mimetype": "text/x-python",
   "name": "python",
   "nbconvert_exporter": "python",
   "pygments_lexer": "ipython3",
   "version": "3.10.9"
  }
 },
 "nbformat": 4,
 "nbformat_minor": 5
}
