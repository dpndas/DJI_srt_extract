{
 "cells": [
  {
   "cell_type": "code",
   "execution_count": 1,
   "id": "bb32db4f",
   "metadata": {},
   "outputs": [],
   "source": [
    "import pandas as pd\n",
    "import numpy as np\n",
    "import matplotlib.pyplot as plt\n",
    "import cv2\n",
    "import os\n",
    "import ipywidgets as widgets\n",
    "from IPython.display import display, clear_output\n",
    "from ipywidgets import Dropdown, interactive, widgets, Output\n",
    "from scipy.interpolate import make_interp_spline"
   ]
  },
  {
   "cell_type": "code",
   "execution_count": 95,
   "id": "78ce91bf",
   "metadata": {},
   "outputs": [
    {
     "name": "stdout",
     "output_type": "stream",
     "text": [
      "        frame  classid  id    x1    y1  width  height  a  b  c  d\n",
      "0        1200        0   0   371   580     51      52 -1 -1 -1 -1\n",
      "1        1200        0  30  2846  1763     53      48 -1 -1 -1 -1\n",
      "2        1200        1   2  2690  1725     63      36 -1 -1 -1 -1\n",
      "3        1200        1   3  3417  1968     50      51 -1 -1 -1 -1\n",
      "4        1200        1   4  3571  2023     39      51 -1 -1 -1 -1\n",
      "...       ...      ...  ..   ...   ...    ...     ... .. .. .. ..\n",
      "233194   5127        0  28  5116  2194     40      34 -1 -1 -1 -1\n",
      "233195   5127        0  53  2812   244     27      29 -1 -1 -1 -1\n",
      "233196   5127        0   9  4353   689     37      40 -1 -1 -1 -1\n",
      "233197   5127        0  30  2895  1679     31      22 -1 -1 -1 -1\n",
      "233198   5127        1  29  3182   929     35      24 -1 -1 -1 -1\n",
      "\n",
      "[233199 rows x 11 columns]\n"
     ]
    }
   ],
   "source": [
    "# Define the column headers\\n\",\n",
    "headers = ['frame', 'classid','id', 'x1', 'y1', 'width', 'height','a','b','c','d']\n",
    "\n",
    "# Provide the path to your CSV file\\n\",\n",
    "csv_file_path = 'D:/MELA/ANNOTATION ANALYSIS/Edited_Edited_Edited_20230309_SM_Lek1_P2D4_DJI_0771.CSV'\n",
    "# Read the CSV file into a DataFrame and assign the headers\\n\",\n",
    "df_in = pd.read_csv(csv_file_path, header=None, names=headers)\n",
    "# Display the DataFrame\\n\",\n",
    "print(df_in)"
   ]
  },
  {
   "cell_type": "code",
   "execution_count": 96,
   "id": "c7011749",
   "metadata": {},
   "outputs": [],
   "source": [
    "df_in['area'] = df_in['width'] * df_in['height']"
   ]
  },
  {
   "cell_type": "code",
   "execution_count": 97,
   "id": "5f83bf13",
   "metadata": {},
   "outputs": [
    {
     "name": "stdout",
     "output_type": "stream",
     "text": [
      "Total Number of Unique Individuals (Male and Female): 87\n",
      "Total Number of bounding boxes: 233199\n"
     ]
    }
   ],
   "source": [
    "unique_individuals = df_in[['classid', 'id']].drop_duplicates()\n",
    "\n",
    "# Calculate the total number of unique individuals\n",
    "total_individuals = len(unique_individuals)\n",
    "total_boxes = len(df_in)\n",
    "\n",
    "# Print the total number of unique individuals\n",
    "print(\"Total Number of Unique Individuals (Male and Female):\", total_individuals)\n",
    "print(\"Total Number of bounding boxes:\", total_boxes)"
   ]
  },
  {
   "cell_type": "code",
   "execution_count": 98,
   "id": "6166774f",
   "metadata": {},
   "outputs": [
    {
     "name": "stdout",
     "output_type": "stream",
     "text": [
      "Frames with classid errors: []\n"
     ]
    }
   ],
   "source": [
    "#Finding classid error\n",
    "\n",
    "# Create a new column 'classid_error' and initialize it with 0\n",
    "df_in['classid_error'] = 0\n",
    "\n",
    "# Function to update 'classid_error' column based on 'classid' column\n",
    "def update_classid_error(row):\n",
    "    if row['classid'] == -1:\n",
    "        return 1\n",
    "    else:\n",
    "        return row['classid_error']\n",
    "\n",
    "# Apply the update_classid_error function to each row\n",
    "df_in['classid_error'] = df_in.apply(update_classid_error, axis=1)\n",
    "\n",
    "df_in['classid_error_frame'] = 0\n",
    "\n",
    "# Find frames with 'classid_error' entry of 1\n",
    "frames_with_classid_error = df_in[df_in['classid_error'] == 1]['frame'].unique()\n",
    "\n",
    "# Update 'classid_error_frame' column for the identified frames\n",
    "df_in.loc[df_in['frame'].isin(frames_with_classid_error), 'classid_error_frame'] = 1\n",
    "\n",
    "# Print frames with duplicates\n",
    "print(\"Frames with classid errors:\", frames_with_classid_error)\n",
    "\n"
   ]
  },
  {
   "cell_type": "code",
   "execution_count": 39,
   "id": "e952c1f5",
   "metadata": {},
   "outputs": [],
   "source": [
    "#Cleaning classid error\n",
    "# Define a threshold for closeness when comparing coordinates and area\n",
    "threshold = 20  # Adjust this value as needed\n",
    "area_threshold = 500\n",
    "# Delete the entries in the 'classid' and 'id' columns of frames with classid errors\n",
    "for frame in frames_with_classid_error:\n",
    "    df_in.loc[(df_in['frame'] == frame) & (df_in['classid_error'] == 1), ['classid', 'id']] = None\n",
    "\n",
    "\n",
    "# Iterate through frames with classid error\n",
    "for frame in frames_with_classid_error:\n",
    "    # Get the rows for the current frame with classid error\n",
    "    error_frame_rows = df_in[(df_in['frame'] == frame) & (df_in['classid_error'] == 1)]\n",
    "\n",
    "    # Find the previous frame\n",
    "    previous_frame = df_in[df_in['frame'] == frame - 1]\n",
    "\n",
    "    # Iterate through the rows with classid error in the current frame\n",
    "    for index, row in error_frame_rows.iterrows():\n",
    "        x = row['x1']\n",
    "        y = row['y1']\n",
    "        area = row['area']\n",
    "\n",
    "        # Iterate through the rows of the previous frame\n",
    "        for prev_index, prev_row in previous_frame.iterrows():\n",
    "            prev_x = prev_row['x1']\n",
    "            prev_y = prev_row['y1']\n",
    "            prev_area = prev_row['area']\n",
    "            prev_classid = prev_row['classid']\n",
    "            prev_individual_id = prev_row['id']\n",
    "\n",
    "            # Check if the coordinates and area are close enough\n",
    "            if abs(x - prev_x) < threshold and abs(y - prev_y) < threshold and abs(area - prev_area) < area_threshold:\n",
    "                # Fill the missing entries in the current row from the previous row\n",
    "                df_in.at[index, 'classid'] = prev_classid\n",
    "                df_in.at[index, 'id'] = prev_individual_id\n"
   ]
  },
  {
   "cell_type": "code",
   "execution_count": 99,
   "id": "c134f903",
   "metadata": {},
   "outputs": [
    {
     "name": "stdout",
     "output_type": "stream",
     "text": [
      "Frames with Duplicates: []\n"
     ]
    }
   ],
   "source": [
    "#Finding duplicate frames\n",
    "\n",
    "# Create a new column 'duplicates' indicating if a row is a duplicate\n",
    "df_in['duplicates'] = df_in.groupby(['frame', 'classid'])['id'].transform(lambda x: x.duplicated(keep=False).astype(int))\n",
    "\n",
    "# Find unique frames with duplicates\n",
    "frames_with_duplicates = df_in.loc[df_in['duplicates'] == 1, 'frame'].unique()\n",
    "\n",
    "# Create 'duplicate_frame' column and set values based on 'frame' and 'frames_with_duplicates'\n",
    "df_in['duplicate_frame'] = df_in['frame'].apply(lambda x: 1 if x in frames_with_duplicates else 0)\n",
    "\n",
    "# Print frames with duplicates\n",
    "print(\"Frames with Duplicates:\", frames_with_duplicates)\n",
    "\n",
    "# Display the updated DataFrame\n",
    "#print(df_in)"
   ]
  },
  {
   "cell_type": "code",
   "execution_count": 41,
   "id": "9a3bb527",
   "metadata": {},
   "outputs": [],
   "source": [
    "#remove dupliactes based on the area difference\n",
    "import pandas as pd\n",
    "\n",
    "# Read the DataFrame from your CSV file or use the existing DataFrame df_in\n",
    "# df_in = pd.read_csv('your_csv_file.csv')\n",
    "\n",
    "# Step 1: Find unique frames with duplicates\n",
    "frames_with_duplicates = df_in.loc[df_in['duplicates'] == 1, 'frame'].unique()\n",
    "\n",
    "# Step 2: Create a list to store the corresponding unique entries of the frame column\n",
    "unique_frames = []\n",
    "\n",
    "# Iterate through frames_with_duplicates and append unique entries to unique_frames list\n",
    "for frame in frames_with_duplicates:\n",
    "    unique_frame = df_in.loc[(df_in['frame'] == frame) & (df_in['duplicates'] == 1), 'frame'].iloc[0]\n",
    "    unique_frames.append(unique_frame)\n",
    "\n",
    "# Step 3: Remove duplicates with smaller area for each unique frame and id combination\n",
    "for frame in unique_frames:\n",
    "    frame_data = df_in[df_in['frame'] == frame]\n",
    "    prev_frame = frame - 1\n",
    "    \n",
    "    for classid, individual_id in frame_data.groupby(['classid', 'id']):\n",
    "        duplicate_rows = individual_id[individual_id['duplicates'] == 1]\n",
    "        if len(duplicate_rows) > 1:\n",
    "            min_area_difference = float('inf')\n",
    "            min_area_duplicate_index = None\n",
    "            \n",
    "            for index, duplicate_row in duplicate_rows.iterrows():\n",
    "                id_to_compare = duplicate_row['id']\n",
    "                prev_frame_entry = df_in[(df_in['frame'] == prev_frame) & (df_in['id'] == id_to_compare)]\n",
    "                \n",
    "                if not prev_frame_entry.empty:\n",
    "                    area_difference = abs(duplicate_row['area'] - prev_frame_entry['area'].values[0])\n",
    "                    if area_difference < min_area_difference:\n",
    "                        min_area_difference = area_difference\n",
    "                        min_area_duplicate_index = index\n",
    "            \n",
    "            # Drop the duplicate row with the larger area\n",
    "            duplicate_rows_to_drop = duplicate_rows[duplicate_rows.index != min_area_duplicate_index]\n",
    "            df_in.drop(duplicate_rows_to_drop.index, inplace=True)\n",
    "\n",
    "\n",
    "\n"
   ]
  },
  {
   "cell_type": "code",
   "execution_count": 101,
   "id": "50fff2a3",
   "metadata": {},
   "outputs": [],
   "source": [
    "df_in.sort_values(by='frame', inplace=True)\n",
    "file_name_without_extension = csv_file_path.split('/')[-1].split('.')[0]"
   ]
  },
  {
   "cell_type": "code",
   "execution_count": 102,
   "id": "3308568a",
   "metadata": {},
   "outputs": [],
   "source": [
    "# SAVING EDITED FILES AS CSV\n",
    "columns_to_drop = ['duplicates', 'duplicate_frame', 'classid_error', 'classid_error_frame','area']\n",
    "\n",
    "\n",
    "# Drop the specified columns\n",
    "df_in = df_in.drop(columns=columns_to_drop)\n",
    "\n",
    "\n",
    "# Save DataFrame to CSV without headers\n",
    "df_in.to_csv(f'Edited_{file_name_without_extension}.csv', index=False, header=False)\n"
   ]
  },
  {
   "cell_type": "code",
   "execution_count": null,
   "id": "36db8aa3",
   "metadata": {},
   "outputs": [],
   "source": []
  },
  {
   "cell_type": "code",
   "execution_count": null,
   "id": "dd3459a2",
   "metadata": {},
   "outputs": [],
   "source": []
  },
  {
   "cell_type": "code",
   "execution_count": null,
   "id": "632bcce0",
   "metadata": {},
   "outputs": [],
   "source": []
  }
 ],
 "metadata": {
  "kernelspec": {
   "display_name": "Python 3 (ipykernel)",
   "language": "python",
   "name": "python3"
  },
  "language_info": {
   "codemirror_mode": {
    "name": "ipython",
    "version": 3
   },
   "file_extension": ".py",
   "mimetype": "text/x-python",
   "name": "python",
   "nbconvert_exporter": "python",
   "pygments_lexer": "ipython3",
   "version": "3.10.9"
  }
 },
 "nbformat": 4,
 "nbformat_minor": 5
}
