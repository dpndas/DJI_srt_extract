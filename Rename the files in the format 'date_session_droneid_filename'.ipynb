{
 "cells": [
  {
   "cell_type": "code",
   "execution_count": 27,
   "id": "05610077",
   "metadata": {},
   "outputs": [],
   "source": [
    "#Rename the srt files\n",
    "import os\n",
    "\n",
    "def rename_files(root_folder):\n",
    "    for folder_name in os.listdir(root_folder):\n",
    "        folder_path = os.path.join(root_folder, folder_name)\n",
    "\n",
    "        if os.path.isdir(folder_path):\n",
    "            for subfolder_name in os.listdir(folder_path):\n",
    "                subfolder_path = os.path.join(folder_path, subfolder_name)\n",
    "\n",
    "                if os.path.isdir(subfolder_path):\n",
    "                    for sub_subfolder_name in os.listdir(subfolder_path):\n",
    "                        sub_subfolder_path = os.path.join(subfolder_path, sub_subfolder_name)\n",
    "\n",
    "                        if os.path.isdir(sub_subfolder_path):\n",
    "                            files = os.listdir(sub_subfolder_path)\n",
    "                            for i, file in enumerate(files, start=1):\n",
    "                                file_name, file_ext = os.path.splitext(file)\n",
    "                                \n",
    "                                if file_ext.lower() == '.srt':\n",
    "                                    # Construct the new file name using f-string\n",
    "                                    new_file_name = f\"{folder_name}_{subfolder_name}_{sub_subfolder_name}_{file[-12:-4]}.srt\"\n",
    "                                    new_file_path = os.path.join(sub_subfolder_path, new_file_name)\n",
    "                                    old_file_path = os.path.join(sub_subfolder_path, file)\n",
    "                                    os.rename(old_file_path, new_file_path)\n",
    "\n",
    "root_folder = \"D:/MELA/AX/\"  # Replace this with the actual path to the AX folder\n",
    "rename_files(root_folder)\n",
    "#AX is the folder which contains folders that are named by dates eg: 2023_03_01\n"
   ]
  },
  {
   "cell_type": "code",
   "execution_count": 32,
   "id": "d6b719b1",
   "metadata": {},
   "outputs": [],
   "source": [
    "#Rename the video files\n",
    "import os\n",
    "\n",
    "def rename_mp4_files(root_folder):\n",
    "    for folder_name in os.listdir(root_folder):\n",
    "        folder_path = os.path.join(root_folder, folder_name)\n",
    "\n",
    "        if os.path.isdir(folder_path):\n",
    "            for subfolder_name in os.listdir(folder_path):\n",
    "                subfolder_path = os.path.join(folder_path, subfolder_name)\n",
    "\n",
    "                if os.path.isdir(subfolder_path):\n",
    "                    for sub_subfolder_name in os.listdir(subfolder_path):\n",
    "                        sub_subfolder_path = os.path.join(subfolder_path, sub_subfolder_name)\n",
    "\n",
    "                        if os.path.isdir(sub_subfolder_path):\n",
    "                            mp4_files = [f for f in os.listdir(sub_subfolder_path) if f.lower().endswith('.mp4')]\n",
    "                            for i, mp4_file in enumerate(mp4_files, start=1):\n",
    "                                file_name, file_ext = os.path.splitext(mp4_file)\n",
    "                                new_file_name = f\"{folder_name}_{subfolder_name}_{sub_subfolder_name}_{file_name}{file_ext}\"\n",
    "                                new_file_path = os.path.join(sub_subfolder_path, new_file_name)\n",
    "                                old_file_path = os.path.join(sub_subfolder_path, mp4_file)\n",
    "                                os.rename(old_file_path, new_file_path)\n",
    "\n",
    "root_folder = \"D:/MELA/AX/\"  # Replace this with the actual path to the AX folder\n",
    "rename_mp4_files(root_folder)\n"
   ]
  },
  {
   "cell_type": "code",
   "execution_count": null,
   "id": "ce708046",
   "metadata": {},
   "outputs": [],
   "source": []
  }
 ],
 "metadata": {
  "kernelspec": {
   "display_name": "Python 3 (ipykernel)",
   "language": "python",
   "name": "python3"
  },
  "language_info": {
   "codemirror_mode": {
    "name": "ipython",
    "version": 3
   },
   "file_extension": ".py",
   "mimetype": "text/x-python",
   "name": "python",
   "nbconvert_exporter": "python",
   "pygments_lexer": "ipython3",
   "version": "3.10.9"
  }
 },
 "nbformat": 4,
 "nbformat_minor": 5
}
